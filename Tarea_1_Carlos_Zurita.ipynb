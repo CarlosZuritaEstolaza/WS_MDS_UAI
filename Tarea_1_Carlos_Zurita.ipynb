{
 "cells": [
  {
   "cell_type": "raw",
   "id": "883823e3-c66d-47b7-a28d-809212111e59",
   "metadata": {},
   "source": [
    "!pip install requests"
   ]
  },
  {
   "cell_type": "raw",
   "id": "8566c84d-6306-42f0-bbd9-7f9fd419fa2b",
   "metadata": {},
   "source": [
    "!pip install bs4"
   ]
  },
  {
   "cell_type": "code",
   "execution_count": 309,
   "id": "d723a4c7-b9ac-4720-ae48-eb2ea37b05d7",
   "metadata": {},
   "outputs": [],
   "source": [
    "from bs4 import BeautifulSoup\n",
    "import requests\n",
    "import re\n",
    "import pandas as pd"
   ]
  },
  {
   "cell_type": "markdown",
   "id": "4ec2bbd1-6b2a-44e4-a538-e0eea2b9c67a",
   "metadata": {},
   "source": [
    "### Funciones"
   ]
  },
  {
   "cell_type": "code",
   "execution_count": 310,
   "id": "f2444a76-a748-4240-a678-6d5cad2661d6",
   "metadata": {},
   "outputs": [],
   "source": [
    "#Funcion para capturar los objetos por etiqueta y clase\n",
    "def buscar_tag_por_etiqueta_clase(html, etiqueta, clase):\n",
    "    soup = BeautifulSoup(html, \"html.parser\")\n",
    "    return soup.find_all(etiqueta, class_= re.compile(clase +\"$\"))\n",
    " "
   ]
  },
  {
   "cell_type": "markdown",
   "id": "c7528b98-028c-4d89-988a-fd33a19a7c32",
   "metadata": {},
   "source": [
    "### Clases"
   ]
  },
  {
   "cell_type": "code",
   "execution_count": 311,
   "id": "aca2c8fc-a2cf-4848-98e0-b6aafd17c60a",
   "metadata": {},
   "outputs": [],
   "source": [
    "class Producto:\n",
    "    pass"
   ]
  },
  {
   "cell_type": "markdown",
   "id": "9430f8c9-fc4c-409e-a654-80bfe570147b",
   "metadata": {},
   "source": [
    "### Proceso"
   ]
  },
  {
   "cell_type": "code",
   "execution_count": 326,
   "id": "46cfc3d4-d49f-4e64-9d83-5b3bb981f96d",
   "metadata": {},
   "outputs": [],
   "source": [
    "#usaremos request para consultar por una dirección url y obtener el contenido, en este caso leer productos de supermecado lider\n",
    "ruta = \"https://www.lider.cl/supermercado/search?Ntt=notebook&ost=notebook\"\n",
    "sitio = requests.get(ruta)"
   ]
  },
  {
   "cell_type": "code",
   "execution_count": 327,
   "id": "3c1b6c04-9476-4910-ab6f-811f7257458f",
   "metadata": {},
   "outputs": [],
   "source": [
    "#Buscamos nuestros tag que contienen los productos del carro\n",
    "listado_items = buscar_tag_por_etiqueta_clase(sitio.content, \"div\", \"product-item-box\")"
   ]
  },
  {
   "cell_type": "code",
   "execution_count": 328,
   "id": "949fe38c-127f-4c01-9937-9e95e259a209",
   "metadata": {},
   "outputs": [],
   "source": [
    "#Ahora vamos a recorrer cada producto del carro, según la lista que encontramos en el paso anterior. Generamos una lista de productos donde \n",
    "#guardaremos nuestros objeto Producto, según los valores que rescatamos dentro del ciclo for\n",
    "\n",
    "productos = []\n",
    "for i in listado_items:\n",
    "    producto = Producto()\n",
    "\n",
    "    if(i[\"prod-number\"] != \"\"):\n",
    "        producto.producto_codigo = i[\"prod-number\"]\n",
    "        \n",
    "    if (i.find('span', class_=\"product-description js-ellipsis\", recursive=True) != []):\n",
    "        producto.nombre = i.find('span', class_=\"product-description js-ellipsis\", recursive=True).text\n",
    "    \n",
    "    if (i.find('span', class_=\"product-name\", recursive=True) != []):\n",
    "        producto.marca = i.find('span', class_=\"product-name\", recursive=True).text\n",
    "      \n",
    "    if (i.find('span', class_=\"product-attribute\", recursive=True) != []):\n",
    "        producto.formato = i.find('span', class_=\"product-attribute\", recursive=True).text\n",
    "        \n",
    "    if (i.find('span', class_=\"price-sell\", recursive=True) != []):\n",
    "        producto.valor = i.find('span', class_=\"price-sell\", recursive=True).text\n",
    "    \n",
    "    if (i.find('div', class_=\"product-legend hidden\", recursive=True) != []):\n",
    "        producto.vigencia = i.find('div', class_=\"product-legend hidden\", recursive=True).text\n",
    "   \n",
    "    productos.append(producto)\n"
   ]
  },
  {
   "cell_type": "code",
   "execution_count": 329,
   "id": "90dc6971-0309-4c4c-bbd0-4268160936a4",
   "metadata": {},
   "outputs": [
    {
     "data": {
      "text/html": [
       "<div>\n",
       "<style scoped>\n",
       "    .dataframe tbody tr th:only-of-type {\n",
       "        vertical-align: middle;\n",
       "    }\n",
       "\n",
       "    .dataframe tbody tr th {\n",
       "        vertical-align: top;\n",
       "    }\n",
       "\n",
       "    .dataframe thead th {\n",
       "        text-align: right;\n",
       "    }\n",
       "</style>\n",
       "<table border=\"1\" class=\"dataframe\">\n",
       "  <thead>\n",
       "    <tr style=\"text-align: right;\">\n",
       "      <th></th>\n",
       "      <th>producto_codigo</th>\n",
       "      <th>nombre</th>\n",
       "      <th>marca</th>\n",
       "      <th>formato</th>\n",
       "      <th>valor</th>\n",
       "      <th>vigencia</th>\n",
       "    </tr>\n",
       "  </thead>\n",
       "  <tbody>\n",
       "    <tr>\n",
       "      <th>0</th>\n",
       "      <td>1203646</td>\n",
       "      <td>Notebook 240 G8 Intel Celeron N4020 / 4GB RAM ...</td>\n",
       "      <td>HP</td>\n",
       "      <td></td>\n",
       "      <td>$179.990</td>\n",
       "      <td>Vigencia del 03-8-16 al 04-8-16. Stock: 200 Un.</td>\n",
       "    </tr>\n",
       "    <tr>\n",
       "      <th>1</th>\n",
       "      <td>1278703</td>\n",
       "      <td>Notebook Ideapad 3/14\"/Intel Pentium Gold/4GB/...</td>\n",
       "      <td>Lenovo</td>\n",
       "      <td></td>\n",
       "      <td>$279.990</td>\n",
       "      <td>Vigencia del 03-8-16 al 04-8-16. Stock: 200 Un.</td>\n",
       "    </tr>\n",
       "    <tr>\n",
       "      <th>2</th>\n",
       "      <td>1221668</td>\n",
       "      <td>Notebook 14-dq2025la Intel Core i3-1115G4 / 4G...</td>\n",
       "      <td>HP</td>\n",
       "      <td></td>\n",
       "      <td>$399.990</td>\n",
       "      <td>Vigencia del 03-8-16 al 04-8-16. Stock: 200 Un.</td>\n",
       "    </tr>\n",
       "    <tr>\n",
       "      <th>3</th>\n",
       "      <td>1263639</td>\n",
       "      <td>Notebook 100e Chromebook 11.6\"/Intel Celeron/4...</td>\n",
       "      <td>Lenovo</td>\n",
       "      <td></td>\n",
       "      <td>$99.990</td>\n",
       "      <td>Vigencia del 03-8-16 al 04-8-16. Stock: 200 Un.</td>\n",
       "    </tr>\n",
       "    <tr>\n",
       "      <th>4</th>\n",
       "      <td>1155250</td>\n",
       "      <td>Notebook IdeaPad 3 /AMD Ryzen 3 5300U/8Gb/256G...</td>\n",
       "      <td>Lenovo</td>\n",
       "      <td></td>\n",
       "      <td>$329.990</td>\n",
       "      <td>Vigencia del 03-8-16 al 04-8-16. Stock: 200 Un.</td>\n",
       "    </tr>\n",
       "    <tr>\n",
       "      <th>5</th>\n",
       "      <td>1278689</td>\n",
       "      <td>Notebook IdeaPad 5/15.6\"/Intel Core i5/8 GB/51...</td>\n",
       "      <td>Lenovo</td>\n",
       "      <td></td>\n",
       "      <td>$529.990</td>\n",
       "      <td>Vigencia del 03-8-16 al 04-8-16. Stock: 200 Un.</td>\n",
       "    </tr>\n",
       "    <tr>\n",
       "      <th>6</th>\n",
       "      <td>1195206</td>\n",
       "      <td>Notebook Asus Vivobook 15 OLED K513EA-L12106T ...</td>\n",
       "      <td>Asus</td>\n",
       "      <td></td>\n",
       "      <td>$679.990</td>\n",
       "      <td>Vigencia del 03-8-16 al 04-8-16. Stock: 200 Un.</td>\n",
       "    </tr>\n",
       "    <tr>\n",
       "      <th>7</th>\n",
       "      <td>1142532</td>\n",
       "      <td>Notebook MacBook Notebook MacBook Air Ret 13.3...</td>\n",
       "      <td>Apple</td>\n",
       "      <td></td>\n",
       "      <td>$999.990</td>\n",
       "      <td>Vigencia del 03-8-16 al 04-8-16. Stock: 200 Un.</td>\n",
       "    </tr>\n",
       "    <tr>\n",
       "      <th>8</th>\n",
       "      <td>1279046</td>\n",
       "      <td>Stickers Notebook Multicolor</td>\n",
       "      <td>1KO</td>\n",
       "      <td></td>\n",
       "      <td>$1.990</td>\n",
       "      <td>Vigencia del 03-8-16 al 04-8-16. Stock: 200 Un.</td>\n",
       "    </tr>\n",
       "  </tbody>\n",
       "</table>\n",
       "</div>"
      ],
      "text/plain": [
       "  producto_codigo                                             nombre   marca  \\\n",
       "0         1203646  Notebook 240 G8 Intel Celeron N4020 / 4GB RAM ...      HP   \n",
       "1         1278703  Notebook Ideapad 3/14\"/Intel Pentium Gold/4GB/...  Lenovo   \n",
       "2         1221668  Notebook 14-dq2025la Intel Core i3-1115G4 / 4G...      HP   \n",
       "3         1263639  Notebook 100e Chromebook 11.6\"/Intel Celeron/4...  Lenovo   \n",
       "4         1155250  Notebook IdeaPad 3 /AMD Ryzen 3 5300U/8Gb/256G...  Lenovo   \n",
       "5         1278689  Notebook IdeaPad 5/15.6\"/Intel Core i5/8 GB/51...  Lenovo   \n",
       "6         1195206  Notebook Asus Vivobook 15 OLED K513EA-L12106T ...    Asus   \n",
       "7         1142532  Notebook MacBook Notebook MacBook Air Ret 13.3...   Apple   \n",
       "8         1279046                       Stickers Notebook Multicolor     1KO   \n",
       "\n",
       "  formato     valor                                         vigencia  \n",
       "0          $179.990  Vigencia del 03-8-16 al 04-8-16. Stock: 200 Un.  \n",
       "1          $279.990  Vigencia del 03-8-16 al 04-8-16. Stock: 200 Un.  \n",
       "2          $399.990  Vigencia del 03-8-16 al 04-8-16. Stock: 200 Un.  \n",
       "3           $99.990  Vigencia del 03-8-16 al 04-8-16. Stock: 200 Un.  \n",
       "4          $329.990  Vigencia del 03-8-16 al 04-8-16. Stock: 200 Un.  \n",
       "5          $529.990  Vigencia del 03-8-16 al 04-8-16. Stock: 200 Un.  \n",
       "6          $679.990  Vigencia del 03-8-16 al 04-8-16. Stock: 200 Un.  \n",
       "7          $999.990  Vigencia del 03-8-16 al 04-8-16. Stock: 200 Un.  \n",
       "8            $1.990  Vigencia del 03-8-16 al 04-8-16. Stock: 200 Un.  "
      ]
     },
     "execution_count": 329,
     "metadata": {},
     "output_type": "execute_result"
    }
   ],
   "source": [
    "#Creamos un dataframe a partir de nuestra lista de productos capturados en el paso anterior\n",
    "df = pd.DataFrame.from_records([t.__dict__ for t in productos ])\n",
    "df.head(100)"
   ]
  },
  {
   "cell_type": "markdown",
   "id": "c6f0eb60-21a9-4249-851a-1075cbe1f5b5",
   "metadata": {},
   "source": [
    "Finalmente tenemos como resultado un dataframe con la información de los productos que encontramos en el sitio que ingresamos como url :)"
   ]
  },
  {
   "cell_type": "code",
   "execution_count": null,
   "id": "2d3271df-7289-40b1-8b45-0fa19afff7f5",
   "metadata": {},
   "outputs": [],
   "source": []
  }
 ],
 "metadata": {
  "kernelspec": {
   "display_name": "Python 3 (ipykernel)",
   "language": "python",
   "name": "python3"
  },
  "language_info": {
   "codemirror_mode": {
    "name": "ipython",
    "version": 3
   },
   "file_extension": ".py",
   "mimetype": "text/x-python",
   "name": "python",
   "nbconvert_exporter": "python",
   "pygments_lexer": "ipython3",
   "version": "3.9.12"
  }
 },
 "nbformat": 4,
 "nbformat_minor": 5
}
